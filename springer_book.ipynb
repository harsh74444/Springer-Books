{
  "nbformat": 4,
  "nbformat_minor": 0,
  "metadata": {
    "colab": {
      "name": "springer_book.ipynb",
      "provenance": [],
      "collapsed_sections": [],
      "mount_file_id": "1lmanFotsLhgkyXbMNueCl0KxohNZF43S",
      "authorship_tag": "ABX9TyN1qwK+jo8+l+NgiuJNoEDi",
      "include_colab_link": true
    },
    "kernelspec": {
      "name": "python3",
      "display_name": "Python 3"
    }
  },
  "cells": [
    {
      "cell_type": "markdown",
      "metadata": {
        "id": "view-in-github",
        "colab_type": "text"
      },
      "source": [
        "<a href=\"https://colab.research.google.com/github/harsh74444/Springer-Books/blob/master/springer_book.ipynb\" target=\"_parent\"><img src=\"https://colab.research.google.com/assets/colab-badge.svg\" alt=\"Open In Colab\"/></a>"
      ]
    },
    {
      "cell_type": "code",
      "metadata": {
        "id": "93AgyihjnFCZ",
        "colab_type": "code",
        "outputId": "7e79f37d-7713-43fe-9122-d97bda0422c1",
        "colab": {
          "base_uri": "https://localhost:8080/",
          "height": 241
        }
      },
      "source": [
        "pip install tabula-py"
      ],
      "execution_count": 1,
      "outputs": [
        {
          "output_type": "stream",
          "text": [
            "Collecting tabula-py\n",
            "\u001b[?25l  Downloading https://files.pythonhosted.org/packages/53/a4/66add528eca00398af98f181772006750019eb9f2d68c7c6fdd53ba661c5/tabula_py-2.1.0-py3-none-any.whl (10.4MB)\n",
            "\u001b[K     |████████████████████████████████| 10.4MB 2.5MB/s \n",
            "\u001b[?25hRequirement already satisfied: pandas>=0.25.3 in /usr/local/lib/python3.6/dist-packages (from tabula-py) (1.0.3)\n",
            "Collecting distro\n",
            "  Downloading https://files.pythonhosted.org/packages/25/b7/b3c4270a11414cb22c6352ebc7a83aaa3712043be29daa05018fd5a5c956/distro-1.5.0-py2.py3-none-any.whl\n",
            "Requirement already satisfied: numpy in /usr/local/lib/python3.6/dist-packages (from tabula-py) (1.18.4)\n",
            "Requirement already satisfied: python-dateutil>=2.6.1 in /usr/local/lib/python3.6/dist-packages (from pandas>=0.25.3->tabula-py) (2.8.1)\n",
            "Requirement already satisfied: pytz>=2017.2 in /usr/local/lib/python3.6/dist-packages (from pandas>=0.25.3->tabula-py) (2018.9)\n",
            "Requirement already satisfied: six>=1.5 in /usr/local/lib/python3.6/dist-packages (from python-dateutil>=2.6.1->pandas>=0.25.3->tabula-py) (1.12.0)\n",
            "Installing collected packages: distro, tabula-py\n",
            "Successfully installed distro-1.5.0 tabula-py-2.1.0\n"
          ],
          "name": "stdout"
        }
      ]
    },
    {
      "cell_type": "code",
      "metadata": {
        "id": "k_c7iYB70nQM",
        "colab_type": "code",
        "outputId": "0018acdd-eae0-4265-fb36-1727d36413bd",
        "colab": {
          "base_uri": "https://localhost:8080/",
          "height": 34
        }
      },
      "source": [
        "pip install tabulate"
      ],
      "execution_count": 2,
      "outputs": [
        {
          "output_type": "stream",
          "text": [
            "Requirement already satisfied: tabulate in /usr/local/lib/python3.6/dist-packages (0.8.7)\n"
          ],
          "name": "stdout"
        }
      ]
    },
    {
      "cell_type": "code",
      "metadata": {
        "id": "kl4rOf7MmVh8",
        "colab_type": "code",
        "outputId": "d16110a0-68b4-43a5-ec8a-29429c11f945",
        "colab": {
          "base_uri": "https://localhost:8080/",
          "height": 374
        }
      },
      "source": [
        "import pandas as pd\n",
        "from tabula import read_pdf\n",
        "from tabulate import tabulate\n",
        "import requests\n",
        "import urllib\n",
        "from bs4 import BeautifulSoup\n",
        "\n",
        "user = input('Please provide the path of pdf file shared: ')\n",
        "\n",
        "pdf = read_pdf(user, pages='all', pandas_options={'header': None})\n",
        "\n",
        "lst_1 = pdf[0]\n",
        "df_head = pd.DataFrame(lst_1)\n",
        "df_head = df_head.drop(labels=0)\n",
        "headers = df_head.iloc[0]\n",
        "\n",
        "df_head = df_head[1:]\n",
        "\n",
        "df_head.columns = headers\n",
        "headers = ['S.No.', 'Book Title', 'Author', 'Edition', 'OpenURL']\n",
        "df1 = pd.DataFrame(columns = headers)\n",
        "for i in range(1,len(pdf)):\n",
        "  lst = pdf[i]\n",
        "  df = pd.DataFrame(lst)\n",
        "  df.columns = headers\n",
        "  df1 = pd.concat([df1,df])\n",
        "  i += 1\n",
        "\n",
        "df_final = pd.concat([df_head, df1])\n",
        "df_final = df_final[df_final['Book Title'].notna()]\n",
        "df_final = df_final.reset_index(drop=True)\n",
        "df_final.index.name = 'S.No.'\n",
        "df_final = df_final.drop(columns =['S.No.'])\n",
        "\n",
        "user_input = input('Enter a search keyword: ')\n",
        "\n",
        "\n",
        "lst_input =[]\n",
        "for i in range(len(df_final)):\n",
        "  if user_input.lower() in df_final['Book Title'][i].lower():\n",
        "    lst_input.append([i, df_final.iloc[i, 0]])\n",
        "    headers_input = ['Serial No.','Book Title']\n",
        "    df_input = pd.DataFrame(lst_input, columns=headers_input)\n",
        "  i+=1\n",
        "pd.options.display.max_columns\n",
        "print(df_input)\n",
        "\n",
        "while True:\n",
        "  serial_input = eval(input('Enter Serial No. of desired Book: '))\n",
        "  if serial_input in df_input['Serial No.'].values:\n",
        "    print('Retrieving.....')\n",
        "    break\n",
        "link = [df_final.iloc[serial_input,3]]\n",
        "\n",
        "url = link[0]\n",
        "html_content = requests.get(url).text\n",
        "soup = BeautifulSoup(html_content, 'lxml')\n",
        "\n",
        "url_1 = []\n",
        "for link in soup.find_all(\"div\", {\"class\": \"cta-button-container__item\"}):\n",
        "  for a in soup.findAll(\"a\", {\"title\": \"Download this book in PDF format\"}):\n",
        "    in_list = \"https://link.springer.com\" + a.get('href')\n",
        "    url_1.append(in_list)\n",
        "\n",
        "if len(url_1) <1:\n",
        "  print('Requested file is not for free')\n",
        "else:\n",
        "  user_input_last = input('Please provide the path for downloading: ')\n",
        "  user_input_file_name = input('Please give your file a unique name: ')\n",
        "  print('Please wait..!! Your file is Downloading...')\n",
        "  urllib.request.urlretrieve(url_1[0], user_input_last+'/'+user_input_file_name)\n",
        "  print('Your file is Downloaded.')\n",
        "\n"
      ],
      "execution_count": 5,
      "outputs": [
        {
          "output_type": "stream",
          "text": [
            "Please provide the path of pdf file shared: /content/drive/My Drive/COVID-19/Springer Ebooks.pdf\n"
          ],
          "name": "stdout"
        },
        {
          "output_type": "stream",
          "text": [
            "Got stderr: May 09, 2020 1:18:19 PM org.apache.pdfbox.pdmodel.font.PDCIDFontType2 <init>\n",
            "INFO: OpenType Layout tables used in font ABCDEE+Calibri are not implemented in PDFBox and will be ignored\n",
            "\n"
          ],
          "name": "stderr"
        },
        {
          "output_type": "stream",
          "text": [
            "Enter a search keyword: python\n",
            "   Serial No.                                      Book Title\n",
            "0          51      Data Structures and Algorithms with Python\n",
            "1         106               Elementary Mechanics Using Python\n",
            "2         119  A Primer on Scientific Programming with Python\n",
            "3         232                             The Python Workbook\n",
            "4         242                 Python Programming Fundamentals\n",
            "5         263                               Python For ArcGIS\n",
            "6         404       A Beginners Guide to Python 3 Programming\n",
            "7         405          Advanced Guide to Python 3 Programming\n",
            "Enter Serial No. of desired Book: 406\n",
            "Enter Serial No. of desired Book: 242\n",
            "Retrieving.....\n",
            "Please provide the path for downloading: /content/drive/My Drive/COVID-19/PDF\n",
            "Please give your file a unique name: Python Basics\n",
            "Please wait..!! Your file is Downloading...\n",
            "Your file is Downloaded.\n"
          ],
          "name": "stdout"
        }
      ]
    },
    {
      "cell_type": "code",
      "metadata": {
        "id": "FbzSNX0jVrzQ",
        "colab_type": "code",
        "colab": {}
      },
      "source": [
        ""
      ],
      "execution_count": 0,
      "outputs": []
    }
  ]
}