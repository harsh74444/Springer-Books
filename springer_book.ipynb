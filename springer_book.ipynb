{
  "nbformat": 4,
  "nbformat_minor": 0,
  "metadata": {
    "colab": {
      "name": "springer_book.ipynb",
      "provenance": [],
      "collapsed_sections": [],
      "mount_file_id": "1lmanFotsLhgkyXbMNueCl0KxohNZF43S",
      "authorship_tag": "ABX9TyP8oukMV5EKD7i0TTskzOvh",
      "include_colab_link": true
    },
    "kernelspec": {
      "name": "python3",
      "display_name": "Python 3"
    }
  },
  "cells": [
    {
      "cell_type": "markdown",
      "metadata": {
        "id": "view-in-github",
        "colab_type": "text"
      },
      "source": [
        "<a href=\"https://colab.research.google.com/github/harsh74444/Springer-Books/blob/master/springer_book.ipynb\" target=\"_parent\"><img src=\"https://colab.research.google.com/assets/colab-badge.svg\" alt=\"Open In Colab\"/></a>"
      ]
    },
    {
      "cell_type": "code",
      "metadata": {
        "id": "93AgyihjnFCZ",
        "colab_type": "code",
        "colab": {}
      },
      "source": [
        "pip install tabula-py"
      ],
      "execution_count": 0,
      "outputs": []
    },
    {
      "cell_type": "code",
      "metadata": {
        "id": "k_c7iYB70nQM",
        "colab_type": "code",
        "colab": {}
      },
      "source": [
        "pip install tabulate"
      ],
      "execution_count": 0,
      "outputs": []
    },
    {
      "cell_type": "code",
      "metadata": {
        "id": "FbzSNX0jVrzQ",
        "colab_type": "code",
        "colab": {}
      },
      "source": [
        "import pandas as pd\n",
        "from tabula import read_pdf\n",
        "from tabulate import tabulate\n",
        "import requests\n",
        "import urllib\n",
        "from bs4 import BeautifulSoup\n",
        "\n",
        "user = input('Please provide the path of pdf file shared: ')\n",
        "user_input_last = input('Please provide path for saving the file: ')\n",
        "\n",
        "\n",
        "while True:\n",
        "  pdf = read_pdf(user, pages='all', pandas_options={'header': None})\n",
        "\n",
        "  lst_1 = pdf[0]\n",
        "  df_head = pd.DataFrame(lst_1)\n",
        "  df_head = df_head.drop(labels=0)\n",
        "  headers = df_head.iloc[0]\n",
        "\n",
        "  df_head = df_head[1:]\n",
        "\n",
        "  df_head.columns = headers\n",
        "  headers = ['S.No.', 'Book Title', 'Author', 'Edition', 'OpenURL']\n",
        "  df1 = pd.DataFrame(columns = headers)\n",
        "  for i in range(1,len(pdf)):\n",
        "    lst = pdf[i]\n",
        "    df = pd.DataFrame(lst)\n",
        "    df.columns = headers\n",
        "    df1 = pd.concat([df1,df])\n",
        "    i += 1\n",
        "\n",
        "  df_final = pd.concat([df_head, df1])\n",
        "  df_final = df_final[df_final['Book Title'].notna()]\n",
        "  df_final = df_final.reset_index(drop=True)\n",
        "  df_final.index.name = 'S.No.'\n",
        "  df_final = df_final.drop(columns =['S.No.'])\n",
        "\n",
        "  user_input = input('Enter a search keyword: ')\n",
        "\n",
        "\n",
        "  lst_input =[]\n",
        "  for i in range(len(df_final)):\n",
        "    if user_input.lower() in df_final['Book Title'][i].lower():\n",
        "      lst_input.append([i, df_final.iloc[i, 0]])\n",
        "      headers_input = ['Serial No.','Book Title']\n",
        "      df_input = pd.DataFrame(lst_input, columns=headers_input)\n",
        "    i+=1\n",
        "  pd.options.display.max_columns\n",
        "  print(df_input)\n",
        "\n",
        "  while True:\n",
        "    serial_input = eval(input('Enter Serial No. of desired Book: '))\n",
        "    if serial_input in df_input['Serial No.'].values:\n",
        "      print('Retrieving.....')\n",
        "      break\n",
        "  link = [df_final.iloc[serial_input,3]]\n",
        "\n",
        "  url = link[0]\n",
        "  html_content = requests.get(url).text\n",
        "  soup = BeautifulSoup(html_content, 'lxml')\n",
        "\n",
        "  url_1 = []\n",
        "  for link in soup.find_all(\"div\", {\"class\": \"cta-button-container__item\"}):\n",
        "    for a in soup.findAll(\"a\", {\"title\": \"Download this book in PDF format\"}):\n",
        "      in_list = \"https://link.springer.com\" + a.get('href')\n",
        "      url_1.append(in_list)\n",
        "\n",
        "  if len(url_1) <1:\n",
        "    print('Requested file is not for free')\n",
        "  else:\n",
        "    user_input_file_name = input('Please give your file a unique name: ')\n",
        "    print('Please wait..!! Your file is Downloading...')\n",
        "    urllib.request.urlretrieve(url_1[0], user_input_last+'/'+user_input_file_name)\n",
        "    print('Your file is Downloaded.')\n",
        "\n",
        "    user_input_more_file = input('Do you want to search for any other book? (Yes/No)')\n",
        "\n",
        "  if user_input_more_file.lower() == 'yes':\n",
        "    continue\n",
        "  else:\n",
        "    print('Thankyou for using this code.')\n",
        "    print('Happy Learning..!!')\n",
        "    break\n",
        "\n",
        "\n"
      ],
      "execution_count": 0,
      "outputs": []
    },
    {
      "cell_type": "code",
      "metadata": {
        "id": "bBxmRJy_iqle",
        "colab_type": "code",
        "colab": {}
      },
      "source": [
        ""
      ],
      "execution_count": 0,
      "outputs": []
    }
  ]
}